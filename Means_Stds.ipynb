{
 "cells": [
  {
   "cell_type": "code",
   "execution_count": 1,
   "id": "598c36f2-9276-4127-8a1e-bfae9d1cde86",
   "metadata": {},
   "outputs": [],
   "source": [
    "import numpy as np\n",
    "import matplotlib.pyplot as plt\n",
    "from sklearn.model_selection import train_test_split\n",
    "\n",
    "#import torch which has many of the functions to build deep learning models and to train them\n",
    "import torch\n",
    "import torch.nn as nn\n",
    "import torch.nn.functional as F\n",
    "import torch.optim as optim\n",
    "\n",
    "#import torchvision, which was lots of functions for loading and working with image data\n",
    "import torchvision\n",
    "import torchvision.transforms as transforms\n",
    "\n",
    "#this is a nice progress bar representation that will be good to measure progress during training\n",
    "import tqdm"
   ]
  },
  {
   "cell_type": "code",
   "execution_count": 2,
   "id": "f3b97d49-9bd9-4612-bf7e-b1f35e6d7138",
   "metadata": {},
   "outputs": [],
   "source": [
    "\n",
    "transform =  transforms.Compose( \n",
    "    [\n",
    "    transforms.ToTensor(),\n",
    "    transforms.Resize((224,224))\n",
    "    ]\n",
    ")\n",
    "\n",
    "#load dataset\n",
    "data_folder_path = 'trainval'\n",
    "trainval_dataset = torchvision.datasets.ImageFolder(data_folder_path, transform = transform)"
   ]
  },
  {
   "cell_type": "code",
   "execution_count": 14,
   "id": "e3c4b67b-80fe-4daa-8162-043dbcad950b",
   "metadata": {},
   "outputs": [
    {
     "name": "stdout",
     "output_type": "stream",
     "text": [
      "Size of train dataset: 800\n",
      "Size of val dataset: 200\n"
     ]
    }
   ],
   "source": [
    "train_portion = 0.8\n",
    "val_portion = 0.2\n",
    "\n",
    "# Created indexes 0-999\n",
    "all_idxes = np.arange(len(trainval_dataset))\n",
    "# Stores all labels as targets\n",
    "all_targets = trainval_dataset.targets\n",
    "\n",
    "#Split the data into the  predifined portions\n",
    "train_idx, val_idx = train_test_split(all_idxes, train_size=train_portion, stratify = all_targets, random_state = 0)\n",
    "\n",
    "train_dataset = torch.utils.data.Subset(trainval_dataset, train_idx)\n",
    "val_dataset = torch.utils.data.Subset(trainval_dataset, val_idx)\n",
    "\n",
    "print(f'Size of train dataset: {len(train_dataset)}')\n",
    "print(f'Size of val dataset: {len(val_dataset)}')"
   ]
  },
  {
   "cell_type": "code",
   "execution_count": 15,
   "id": "5f583efb-50d9-4582-a9ab-b3e15e320f4e",
   "metadata": {},
   "outputs": [
    {
     "name": "stdout",
     "output_type": "stream",
     "text": [
      " for chanel 0: (0.4181233914494397, 0.2595972958618574)\n",
      " for chanel 1: (0.4181233914494397, 0.2595972958618574)\n",
      " for chanel 2: (0.4181233914494397, 0.2595972958618574)\n"
     ]
    }
   ],
   "source": [
    "means = []\n",
    "stds = []\n",
    "for i in range(3):\n",
    "    pixel_vals = []\n",
    "    for data in train_dataset:\n",
    "        im, lbl = data\n",
    "    \n",
    "        pixel_vals += im[0].tolist()\n",
    "\n",
    "    mean_val = np.mean(pixel_vals)\n",
    "    std_val = np.std(pixel_vals)\n",
    "\n",
    "    means += {mean_val}\n",
    "    stds += {std_val}\n",
    "\n",
    "    print(f\" for chanel {i}: {np.mean(pixel_vals), np.std(pixel_vals)}\")"
   ]
  },
  {
   "cell_type": "code",
   "execution_count": 16,
   "id": "d1242d48-ab37-4ffc-9c09-59828710f543",
   "metadata": {},
   "outputs": [
    {
     "name": "stdout",
     "output_type": "stream",
     "text": [
      "179200\n"
     ]
    }
   ],
   "source": [
    "print(len(pixel_vals))"
   ]
  },
  {
   "cell_type": "code",
   "execution_count": 17,
   "id": "0c94cc96-4bab-48e8-b37c-f2e8443104c7",
   "metadata": {},
   "outputs": [
    {
     "name": "stdout",
     "output_type": "stream",
     "text": [
      "[0.4181233914494397, 0.4181233914494397, 0.4181233914494397]\n",
      "[0.2595972958618574, 0.2595972958618574, 0.2595972958618574]\n"
     ]
    }
   ],
   "source": [
    "print(means)\n",
    "print(stds)"
   ]
  },
  {
   "cell_type": "code",
   "execution_count": null,
   "id": "636a3d6b-add7-476b-b3ff-62ffc23132a6",
   "metadata": {},
   "outputs": [],
   "source": []
  }
 ],
 "metadata": {
  "kernelspec": {
   "display_name": "Python 3 (ipykernel)",
   "language": "python",
   "name": "python3"
  },
  "language_info": {
   "codemirror_mode": {
    "name": "ipython",
    "version": 3
   },
   "file_extension": ".py",
   "mimetype": "text/x-python",
   "name": "python",
   "nbconvert_exporter": "python",
   "pygments_lexer": "ipython3",
   "version": "3.11.9"
  }
 },
 "nbformat": 4,
 "nbformat_minor": 5
}
